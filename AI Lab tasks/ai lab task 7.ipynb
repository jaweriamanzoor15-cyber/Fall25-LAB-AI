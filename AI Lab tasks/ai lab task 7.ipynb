{
 "cells": [
  {
   "cell_type": "markdown",
   "id": "8dfdf922",
   "metadata": {},
   "source": [
    "## Name Javeria Manzooor\n",
    "## Roll no: 201\n",
    "\n",
    "## Lab Task: 07\n",
    "\n",
    "## Subject: AI(Lab)"
   ]
  },
  {
   "cell_type": "markdown",
   "id": "f492a4da",
   "metadata": {},
   "source": [
    " ## Write code for A* Algorithm\n",
    "\n"
   ]
  },
  {
   "cell_type": "code",
   "execution_count": 3,
   "id": "509b83c6",
   "metadata": {},
   "outputs": [
    {
     "name": "stdout",
     "output_type": "stream",
     "text": [
      "Shortest Path: [(0, 0), (1, 0), (2, 0), (2, 1), (2, 2), (3, 2), (3, 3), (3, 4)]\n"
     ]
    }
   ],
   "source": [
    "class Node:\n",
    "    def __init__(self, position, parent=None):\n",
    "        self.position = position\n",
    "        self.parent = parent\n",
    "        self.g = 0  \n",
    "        self.h = 0  \n",
    "        self.f = 0  \n",
    "\n",
    "def heuristic(a, b):\n",
    "    \n",
    "    return abs(a[0] - b[0]) + abs(a[1] - b[1])\n",
    "\n",
    "def astar(grid, start, goal):\n",
    "    open_list = []   \n",
    "    closed_list = [] \n",
    "\n",
    "    start_node = Node(start)\n",
    "    goal_node = Node(goal)\n",
    "\n",
    "    open_list.append(start_node)\n",
    "\n",
    "    while open_list:\n",
    "    \n",
    "        current_node = min(open_list, key=lambda node: node.f)\n",
    "        open_list.remove(current_node)\n",
    "        closed_list.append(current_node)\n",
    "\n",
    "        \n",
    "        if current_node.position == goal_node.position:\n",
    "            path = []\n",
    "            while current_node:\n",
    "                path.append(current_node.position)\n",
    "                current_node = current_node.parent\n",
    "            return path[::-1]  \n",
    "\n",
    "        \n",
    "        (x, y) = current_node.position\n",
    "        neighbors = [(x - 1, y), (x + 1, y), (x, y - 1), (x, y + 1)]\n",
    "\n",
    "        for next_pos in neighbors:\n",
    "            \n",
    "            if (next_pos[0] < 0 or next_pos[0] >= len(grid)\n",
    "                or next_pos[1] < 0 or next_pos[1] >= len(grid[0])):\n",
    "                continue\n",
    "        \n",
    "            if grid[next_pos[0]][next_pos[1]] == 1:\n",
    "                continue\n",
    "            \n",
    "            if any(closed_node.position == next_pos for closed_node in closed_list):\n",
    "                continue\n",
    "\n",
    "            new_node = Node(next_pos, current_node)\n",
    "            new_node.g = current_node.g + 1\n",
    "            new_node.h = heuristic(next_pos, goal_node.position)\n",
    "            new_node.f = new_node.g + new_node.h\n",
    "            if any(open_node.position == next_pos and open_node.f <= new_node.f for open_node in open_list):\n",
    "                continue\n",
    "\n",
    "            open_list.append(new_node)\n",
    "\n",
    "    return None  \n",
    "\n",
    "grid = [\n",
    "    [0, 1, 0, 0, 0],\n",
    "    [0, 1, 0, 1, 0],\n",
    "    [0, 0, 0, 1, 0],\n",
    "    [1, 1, 0, 0, 0]\n",
    "]\n",
    "\n",
    "start = (0, 0)\n",
    "goal = (3, 4)\n",
    "\n",
    "path = astar(grid, start, goal)\n",
    "print(\"Shortest Path:\", path)\n",
    "\n",
    "\n",
    "\n"
   ]
  },
  {
   "cell_type": "code",
   "execution_count": null,
   "id": "5c105170",
   "metadata": {},
   "outputs": [],
   "source": []
  }
 ],
 "metadata": {
  "kernelspec": {
   "display_name": "base",
   "language": "python",
   "name": "python3"
  },
  "language_info": {
   "codemirror_mode": {
    "name": "ipython",
    "version": 3
   },
   "file_extension": ".py",
   "mimetype": "text/x-python",
   "name": "python",
   "nbconvert_exporter": "python",
   "pygments_lexer": "ipython3",
   "version": "3.12.4"
  }
 },
 "nbformat": 4,
 "nbformat_minor": 5
}
