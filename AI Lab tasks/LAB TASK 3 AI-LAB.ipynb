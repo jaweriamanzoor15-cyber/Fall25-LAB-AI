{
 "cells": [
  {
   "cell_type": "markdown",
   "id": "d3238715",
   "metadata": {},
   "source": [
    "## Name Javeria Manzooor\n",
    "## Roll no: 201\n",
    "\n",
    "## Lab Task: 06\n",
    "\n",
    "## Subject: AI(Lab)"
   ]
  },
  {
   "cell_type": "markdown",
   "id": "03b67b4e",
   "metadata": {},
   "source": [
    " ## Q1: BFS without Queue & without Node"
   ]
  },
  {
   "cell_type": "code",
   "execution_count": 1,
   "id": "8d110efe",
   "metadata": {},
   "outputs": [
    {
     "name": "stdout",
     "output_type": "stream",
     "text": [
      "BFS without Queue & Node:\n",
      "A B C D E F "
     ]
    }
   ],
   "source": [
    "\n",
    "graph = {\n",
    "    'A': ['B', 'C'],\n",
    "    'B': ['D', 'E'],\n",
    "    'C': ['F'],\n",
    "    'D': [],\n",
    "    'E': ['F'],\n",
    "    'F': []\n",
    "}\n",
    "\n",
    "def nodes_at_level(graph, start, level):\n",
    "    if level == 0:\n",
    "        return [start]\n",
    "    result = []\n",
    "    for neighbor in graph[start]:\n",
    "        result += nodes_at_level(graph, neighbor, level - 1)\n",
    "    return result\n",
    "\n",
    "def bfs_without_queue(graph, start):\n",
    "    visited = set()\n",
    "    level = 0\n",
    "    while True:\n",
    "        current_level_nodes = nodes_at_level(graph, start, level)\n",
    "        current_level_nodes = [n for n in current_level_nodes if n not in visited]\n",
    "        \n",
    "        if not current_level_nodes:\n",
    "            break\n",
    "        print(\" \".join(current_level_nodes), end=\" \")\n",
    "        visited.update(current_level_nodes)\n",
    "        level += 1\n",
    "\n",
    "print(\"BFS without Queue & Node:\")\n",
    "bfs_without_queue(graph, 'A')\n"
   ]
  },
  {
   "cell_type": "markdown",
   "id": "aa5c0c9c",
   "metadata": {},
   "source": [
    "## Q2: . BFS with Queue"
   ]
  },
  {
   "cell_type": "code",
   "execution_count": 6,
   "id": "7349ab82",
   "metadata": {},
   "outputs": [
    {
     "name": "stdout",
     "output_type": "stream",
     "text": [
      "BFS with Queue (Graph, No Node Class):\n",
      "A B C D E F "
     ]
    }
   ],
   "source": [
    "from collections import deque\n",
    "\n",
    "graph = {\n",
    "    'A': ['B', 'C'],\n",
    "    'B': ['D', 'E'],\n",
    "    'C': ['F'],\n",
    "    'D': [],\n",
    "    'E': ['F'],\n",
    "    'F': []\n",
    "}\n",
    "\n",
    "def bfs_with_queue(graph, start):\n",
    "    visited = set()           \n",
    "    q = deque([start])        \n",
    "    \n",
    "    while q:\n",
    "        node = q.popleft()    \n",
    "        if node not in visited:\n",
    "            print(node, end=\" \")\n",
    "            visited.add(node)\n",
    "            for neighbor in graph[node]:\n",
    "                if neighbor not in visited:\n",
    "                    q.append(neighbor)  \n",
    "\n",
    "print(\"BFS with Queue (Graph, No Node Class):\")\n",
    "bfs_with_queue(graph, 'A')\n"
   ]
  },
  {
   "cell_type": "code",
   "execution_count": null,
   "id": "5a72877b",
   "metadata": {},
   "outputs": [],
   "source": []
  }
 ],
 "metadata": {
  "kernelspec": {
   "display_name": "base",
   "language": "python",
   "name": "python3"
  },
  "language_info": {
   "codemirror_mode": {
    "name": "ipython",
    "version": 3
   },
   "file_extension": ".py",
   "mimetype": "text/x-python",
   "name": "python",
   "nbconvert_exporter": "python",
   "pygments_lexer": "ipython3",
   "version": "3.12.4"
  }
 },
 "nbformat": 4,
 "nbformat_minor": 5
}
