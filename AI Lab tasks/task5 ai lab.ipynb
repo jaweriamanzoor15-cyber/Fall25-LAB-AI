{
 "cells": [
  {
   "cell_type": "markdown",
   "id": "7c3d5aea",
   "metadata": {},
   "source": [
    "## Name: Javeria Manzoor\n",
    "## Roll no: 201\n",
    "## Section: BSAI(3C)\n",
    "## Subject: AI(lAB)\n",
    "## Task no: 05"
   ]
  },
  {
   "cell_type": "markdown",
   "id": "6f13830d",
   "metadata": {},
   "source": [
    "## Q1: DFS with Stack"
   ]
  },
  {
   "cell_type": "code",
   "execution_count": 2,
   "id": "49ea4f9d",
   "metadata": {},
   "outputs": [
    {
     "name": "stdout",
     "output_type": "stream",
     "text": [
      "DFS with Stack:\n",
      "A B D E F C "
     ]
    }
   ],
   "source": [
    "def dfs_with_stack(graph, start):\n",
    "    visited = set()\n",
    "    stack = [start]  \n",
    "\n",
    "    while stack:\n",
    "        node = stack.pop()  \n",
    "        if node not in visited:\n",
    "            print(node, end=\" \")\n",
    "            visited.add(node)\n",
    "\n",
    "            \n",
    "            for neighbor in reversed(graph[node]):\n",
    "                if neighbor not in visited:\n",
    "                    stack.append(neighbor)\n",
    "graph = {\n",
    "    'A': ['B', 'C'],\n",
    "    'B': ['D', 'E'],\n",
    "    'C': ['F'],\n",
    "    'D': [],\n",
    "    'E': ['F'],\n",
    "    'F': []\n",
    "}\n",
    "\n",
    "print(\"DFS with Stack:\")\n",
    "dfs_with_stack(graph, 'A')\n"
   ]
  },
  {
   "cell_type": "markdown",
   "id": "e435c55b",
   "metadata": {},
   "source": [
    "## Q2:. Research about \"Inorder, Preorder, Postorder\" and implement in DFS"
   ]
  },
  {
   "cell_type": "code",
   "execution_count": 4,
   "id": "c1466e01",
   "metadata": {},
   "outputs": [
    {
     "name": "stdout",
     "output_type": "stream",
     "text": [
      "Preorder Traversal (DFS):\n",
      "A B D E C F \n",
      "Inorder Traversal (DFS):\n",
      "D B E A C F \n",
      "Postorder Traversal (DFS):\n",
      "D E B F C A "
     ]
    }
   ],
   "source": [
    "\n",
    "def preorder(tree, root):\n",
    "    if root is None:\n",
    "        return\n",
    "    print(root, end=\" \")\n",
    "    preorder(tree, tree[root][0])  \n",
    "    preorder(tree, tree[root][1])  \n",
    "\n",
    "def inorder(tree, root):\n",
    "    if root is None:\n",
    "        return\n",
    "    inorder(tree, tree[root][0])   \n",
    "    print(root, end=\" \")\n",
    "    inorder(tree, tree[root][1])   \n",
    "\n",
    "def postorder(tree, root):\n",
    "    if root is None:\n",
    "        return\n",
    "    postorder(tree, tree[root][0])  \n",
    "    postorder(tree, tree[root][1])  \n",
    "    print(root, end=\" \")\n",
    "\n",
    "tree = {\n",
    "    'A': ['B', 'C'],\n",
    "    'B': ['D', 'E'],\n",
    "    'C': [None, 'F'],\n",
    "    'D': [None, None],\n",
    "    'E': [None, None],\n",
    "    'F': [None, None]\n",
    "}\n",
    "\n",
    "print(\"Preorder Traversal (DFS):\")\n",
    "preorder(tree, 'A')\n",
    "\n",
    "print(\"\\nInorder Traversal (DFS):\")\n",
    "inorder(tree, 'A')\n",
    "\n",
    "print(\"\\nPostorder Traversal (DFS):\")\n",
    "postorder(tree, 'A')\n"
   ]
  },
  {
   "cell_type": "code",
   "execution_count": null,
   "id": "5a5d4bb2",
   "metadata": {},
   "outputs": [],
   "source": []
  }
 ],
 "metadata": {
  "kernelspec": {
   "display_name": "base",
   "language": "python",
   "name": "python3"
  },
  "language_info": {
   "codemirror_mode": {
    "name": "ipython",
    "version": 3
   },
   "file_extension": ".py",
   "mimetype": "text/x-python",
   "name": "python",
   "nbconvert_exporter": "python",
   "pygments_lexer": "ipython3",
   "version": "3.12.4"
  }
 },
 "nbformat": 4,
 "nbformat_minor": 5
}
