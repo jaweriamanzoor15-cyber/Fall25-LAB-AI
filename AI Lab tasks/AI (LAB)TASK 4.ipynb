{
 "cells": [
  {
   "cell_type": "markdown",
   "id": "f5ca6922",
   "metadata": {},
   "source": [
    "\n",
    "## SUBJECT: AI(LAB)\n",
    "## TASK:04"
   ]
  },
  {
   "cell_type": "markdown",
   "id": "3baa0e7b",
   "metadata": {},
   "source": [
    "## Q1: Code for LUHN Algorithm"
   ]
  },
  {
   "cell_type": "code",
   "execution_count": 3,
   "id": "b53773c6",
   "metadata": {},
   "outputs": [
    {
     "name": "stdout",
     "output_type": "stream",
     "text": [
      "4532015112830366 is VALID\n"
     ]
    }
   ],
   "source": [
    "def luhn_check(card_number: str) -> bool:\n",
    "\n",
    "    digits = [int(d) for d in card_number[::-1]]\n",
    "\n",
    "    total = 0\n",
    "    for i, d in enumerate(digits):\n",
    "        if i % 2 == 1:  \n",
    "            d *= 2\n",
    "            if d > 9:   \n",
    "                d -= 9\n",
    "        total += d\n",
    "\n",
    "    return total % 10 == 0\n",
    "\n",
    "card_number = \"4532015112830366\"  \n",
    "if luhn_check(card_number):\n",
    "    print(f\"{card_number} is VALID\")\n",
    "else:\n",
    "    print(f\"{card_number} is INVALID\")\n"
   ]
  },
  {
   "cell_type": "markdown",
   "id": "c1472d1b",
   "metadata": {},
   "source": [
    "## Q2: Write a python program to remove punctuations from the given string? "
   ]
  },
  {
   "cell_type": "code",
   "execution_count": 4,
   "id": "fc8109fd",
   "metadata": {},
   "outputs": [
    {
     "name": "stdout",
     "output_type": "stream",
     "text": [
      "Original String: Hello!!!, he said --- and went.\n",
      "Without Punctuations: Hello he said  and went\n"
     ]
    }
   ],
   "source": [
    "import string\n",
    "\n",
    "def remove_punctuations(text: str) -> str:\n",
    "    \n",
    "    translator = str.maketrans('', '', string.punctuation)\n",
    "    return text.translate(translator)\n",
    "\n",
    "input_str = \"Hello!!!, he said --- and went.\"\n",
    "clean_str = remove_punctuations(input_str)\n",
    "\n",
    "print(\"Original String:\", input_str)\n",
    "print(\"Without Punctuations:\", clean_str)\n"
   ]
  },
  {
   "cell_type": "markdown",
   "id": "8794f99a",
   "metadata": {},
   "source": [
    "## Q3: Write a python program to sort the sentence in alphabetical order? "
   ]
  },
  {
   "cell_type": "code",
   "execution_count": 2,
   "id": "3dff3d1d",
   "metadata": {},
   "outputs": [
    {
     "name": "stdout",
     "output_type": "stream",
     "text": [
      "Original Sentence: Python is a Powerful and Easy to Learn Language.\n",
      "Alphabetically Sorted: a and Easy is Language. Learn Powerful Python to\n"
     ]
    }
   ],
   "source": [
    "def sort_sentence(sentence: str) -> str:\n",
    "    \n",
    "    words = sentence.split()\n",
    "\n",
    "    words.sort(key=str.lower)\n",
    "\n",
    "    return \" \".join(words)\n",
    "\n",
    "sentence = \"Python is a Powerful and Easy to Learn Language.\"\n",
    "sorted_sentence = sort_sentence(sentence)\n",
    "\n",
    "print(\"Original Sentence:\", sentence)\n",
    "print(\"Alphabetically Sorted:\", sorted_sentence)\n"
   ]
  },
  {
   "cell_type": "code",
   "execution_count": null,
   "id": "f9d1caa3",
   "metadata": {},
   "outputs": [],
   "source": []
  }
 ],
 "metadata": {
  "kernelspec": {
   "display_name": "base",
   "language": "python",
   "name": "python3"
  },
  "language_info": {
   "codemirror_mode": {
    "name": "ipython",
    "version": 3
   },
   "file_extension": ".py",
   "mimetype": "text/x-python",
   "name": "python",
   "nbconvert_exporter": "python",
   "pygments_lexer": "ipython3",
   "version": "3.12.4"
  }
 },
 "nbformat": 4,
 "nbformat_minor": 5
}
